{
  "nbformat": 4,
  "nbformat_minor": 0,
  "metadata": {
    "colab": {
      "name": "vybhav_a.ipynb",
      "provenance": [],
      "collapsed_sections": []
    },
    "kernelspec": {
      "name": "python3",
      "display_name": "Python 3"
    },
    "language_info": {
      "name": "python"
    }
  },
  "cells": [
    {
      "cell_type": "code",
      "metadata": {
        "colab": {
          "base_uri": "https://localhost:8080/"
        },
        "id": "s5AhT2yZitE4",
        "outputId": "b7966e61-0f94-41d1-83eb-89c14cf49bd0"
      },
      "source": [
        "import requests\n",
        "#import os\n",
        "from datetime import datetime\n",
        "\n",
        "api_key = '87d845b0b6cf29baa1a73cc34b067a95'\n",
        "location = input(\"Enter the city name: \")\n",
        "\n",
        "complete_api_link = \"https://api.openweathermap.org/data/2.5/weather?q=\"+location+\"&appid=\"+api_key\n",
        "api_link = requests.get(complete_api_link)\n",
        "api_data = api_link.json()\n",
        "\n",
        "#create variables to store and display data\n",
        "temp_city = ((api_data['main']['temp']) - 273.15)\n",
        "weather_desc = api_data['weather'][0]['description']\n",
        "hmdt = api_data['main']['humidity']\n",
        "wind_spd = api_data['wind']['speed']\n",
        "date_time = datetime.now().strftime(\"%d %b %Y | %I:%M:%S %p\")\n",
        "\n",
        "print (\"-------------------------------------------------------------\")\n",
        "print (\"Weather Stats for - {}  || {}\".format(location.upper(), date_time))\n",
        "print (\"-------------------------------------------------------------\")\n",
        "\n",
        "print (\"Current temperature is: {:.2f} deg C\".format(temp_city))\n",
        "print (\"Current weather desc  :\",weather_desc)\n",
        "print (\"Current Humidity      :\",hmdt, '%')\n",
        "print (\"Current wind speed    :\",wind_spd ,'kmph')\n",
        "\n",
        "\n",
        "\n"
      ],
      "execution_count": 16,
      "outputs": [
        {
          "output_type": "stream",
          "text": [
            "Enter the city name: jaipur\n",
            "-------------------------------------------------------------\n",
            "Weather Stats for - JAIPUR  || 23 Jun 2021 | 08:26:46 AM\n",
            "-------------------------------------------------------------\n",
            "Current temperature is: 37.62 deg C\n",
            "Current weather desc  : haze\n",
            "Current Humidity      : 30 %\n",
            "Current wind speed    : 3.09 kmph\n"
          ],
          "name": "stdout"
        }
      ]
    },
    {
      "cell_type": "code",
      "metadata": {
        "id": "lKLImBfWlc-z",
        "colab": {
          "base_uri": "https://localhost:8080/"
        },
        "outputId": "8503750f-f1e2-4251-9f4f-3a1ede85f723"
      },
      "source": [
        "outfile = open ('data.txt','a')\n",
        "\n",
        "outfile.write(\"-------------------------------------------------------------\")\n",
        "outfile.write(\"Weather Stats for - {}  || {}\".format(location.upper(), date_time))\n",
        "outfile.write(\"-------------------------------------------------------------\")\n",
        "outfile.write(\"Current temperature is: {:.2f} deg C\".format(temp_city))\n",
        "outfile.write(\"Current weather desc  :\"+ weather_desc +\"\\n\")\n",
        "outfile.write(\"Current Humidity    in %  :\"+ str(hmdt) + \"\\n\")\n",
        "outfile.write(\"Current wind speed  in kmph  :\"+ str(wind_spd) + \"\\n\")\n",
        "outfile.close()"
      ],
      "execution_count": 19,
      "outputs": [
        {
          "output_type": "execute_result",
          "data": {
            "text/plain": [
              "35"
            ]
          },
          "metadata": {
            "tags": []
          },
          "execution_count": 19
        }
      ]
    },
    {
      "cell_type": "code",
      "metadata": {
        "id": "efp71f7GpRkQ"
      },
      "source": [
        ""
      ],
      "execution_count": null,
      "outputs": []
    }
  ]
}