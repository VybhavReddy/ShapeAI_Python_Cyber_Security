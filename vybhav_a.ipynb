{
  "nbformat": 4,
  "nbformat_minor": 0,
  "metadata": {
    "colab": {
      "name": "vybhav_a.ipynb",
      "provenance": [],
      "collapsed_sections": []
    },
    "kernelspec": {
      "name": "python3",
      "display_name": "Python 3"
    },
    "language_info": {
      "name": "python"
    }
  },
  "cells": [
    {
      "cell_type": "code",
      "metadata": {
        "colab": {
          "base_uri": "https://localhost:8080/"
        },
        "id": "s5AhT2yZitE4",
        "outputId": "f527c433-e208-4553-fa66-e64da5ba721c"
      },
      "source": [
        "import requests\n",
        "#import os\n",
        "from datetime import datetime\n",
        "\n",
        "api_key = '87d845b0b6cf29baa1a73cc34b067a95'\n",
        "location = input(\"Enter the city name: \")\n",
        "\n",
        "complete_api_link = \"https://api.openweathermap.org/data/2.5/weather?q=\"+location+\"&appid=\"+api_key\n",
        "api_link = requests.get(complete_api_link)\n",
        "api_data = api_link.json()\n",
        "\n",
        "#create variables to store and display data\n",
        "temp_city = ((api_data['main']['temp']) - 273.15)\n",
        "weather_desc = api_data['weather'][0]['description']\n",
        "hmdt = api_data['main']['humidity']\n",
        "wind_spd = api_data['wind']['speed']\n",
        "date_time = datetime.now().strftime(\"%d %b %Y | %I:%M:%S %p\")\n",
        "\n",
        "print (\"-------------------------------------------------------------\")\n",
        "print (\"Weather Stats for - {}  || {}\".format(location.upper(), date_time))\n",
        "print (\"-------------------------------------------------------------\")\n",
        "\n",
        "print (\"Current temperature is: {:.2f} deg C\".format(temp_city))\n",
        "print (\"Current weather desc  :\",weather_desc)\n",
        "print (\"Current Humidity      :\",hmdt, '%')\n",
        "print (\"Current wind speed    :\",wind_spd ,'kmph')\n",
        "\n",
        "\n",
        "\n"
      ],
      "execution_count": 5,
      "outputs": [
        {
          "output_type": "stream",
          "text": [
            "Enter the city name: bengaluru\n",
            "-------------------------------------------------------------\n",
            "Weather Stats for - BENGALURU  || 23 Jun 2021 | 08:09:45 AM\n",
            "-------------------------------------------------------------\n",
            "Current temperature is: 29.21 deg C\n",
            "Current weather desc  : scattered clouds\n",
            "Current Humidity      : 48 %\n",
            "Current wind speed    : 3.09 kmph\n"
          ],
          "name": "stdout"
        }
      ]
    },
    {
      "cell_type": "code",
      "metadata": {
        "id": "lKLImBfWlc-z"
      },
      "source": [
        "outfile = open ('data.txt','a')\n",
        "\n",
        "outfile.write(\"-------------------------------------------------------------\")\n",
        "outfile.write(\"Weather Stats for - {}  || {}\".format(location.upper(), date_time))\n",
        "outfile.write(\"-------------------------------------------------------------\")\n",
        "outfile.write(\"Current temperature is: {:.2f} deg C\".format(temp_city))\n",
        "outfile.write(\"Current weather desc  :\"+ weather_desc +\"\\n\")\n",
        "outfile.write(\"Current Humidity    in %  :\"+ \"$hmdt\" + \"\\n\")\n",
        "outfile.write(\"Current wind speed  in kmph  :\"+ \"$wind_spd\" + \"\\n\")\n",
        "outfile.close()"
      ],
      "execution_count": 15,
      "outputs": []
    },
    {
      "cell_type": "code",
      "metadata": {
        "id": "efp71f7GpRkQ"
      },
      "source": [
        ""
      ],
      "execution_count": null,
      "outputs": []
    }
  ]
}